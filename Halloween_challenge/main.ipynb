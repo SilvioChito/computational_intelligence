{
 "cells": [
  {
   "cell_type": "code",
   "execution_count": 400,
   "metadata": {},
   "outputs": [],
   "source": [
    "from itertools import product\n",
    "from random import randint, seed\n",
    "import random\n",
    "import numpy as np\n",
    "from scipy import sparse\n",
    "from functools import reduce\n",
    "from random import random, choice, randint\n",
    "from copy import copy\n",
    "import math"
   ]
  },
  {
   "cell_type": "code",
   "execution_count": 401,
   "metadata": {},
   "outputs": [],
   "source": [
    "def make_set_covering_problem(num_points, num_sets, density):\n",
    "    \"\"\"Returns a sparse array where rows are sets and columns are the covered items\"\"\"\n",
    "    seed(num_points*2654435761+num_sets+density)\n",
    "    sets = sparse.lil_array((num_sets, num_points), dtype=bool)\n",
    "    for s, p in product(range(num_sets), range(num_points)):\n",
    "        if random() < density:\n",
    "            sets[s, p] = True\n",
    "    for p in range(num_points):\n",
    "        sets[randint(0, num_sets-1), p] = True\n",
    "    return sets"
   ]
  },
  {
   "cell_type": "markdown",
   "metadata": {},
   "source": [
    "Iterated Local Search"
   ]
  },
  {
   "cell_type": "code",
   "execution_count": 402,
   "metadata": {},
   "outputs": [],
   "source": [
    "num_points = 5000\n",
    "num_sets = num_points\n",
    "density = .7\n",
    "count_fitness = 0\n",
    "\n",
    "mysets = make_set_covering_problem(num_points, num_sets, density).toarray()\n",
    "\n",
    "def fitness(state):\n",
    "    global count_fitness\n",
    "    count_fitness = count_fitness + 1\n",
    "    cost = sum(state)\n",
    "    valid = np.sum(\n",
    "        reduce(\n",
    "            np.logical_or,\n",
    "            [mysets[i] for i, t in enumerate(state) if t],\n",
    "            np.array([False for _ in range(num_points)]),\n",
    "        )\n",
    "    )\n",
    "    return valid, -cost\n"
   ]
  },
  {
   "cell_type": "code",
   "execution_count": 403,
   "metadata": {},
   "outputs": [],
   "source": [
    "def tweak(state):\n",
    "    new_state = copy(state)\n",
    "    index = randint(0, num_points - 1)\n",
    "    new_state[index] = not new_state[index]\n",
    "    return new_state\n",
    "\n",
    "def perturb(state):\n",
    "    num_changes = np.sum(state) * .25\n",
    "    new_state = copy(state)\n",
    "\n",
    "    for _ in range(int(num_changes)):\n",
    "        index = randint(0, num_points - 1)\n",
    "        new_state[index] = not state[index]\n",
    "\n",
    "    return new_state\n",
    "\n",
    "\n",
    "def new_home_state(current_home_base, current_state):\n",
    "    if fitness(current_state) > fitness(current_home_base):\n",
    "        return current_state\n",
    "    else: return current_home_base\n",
    "    "
   ]
  },
  {
   "cell_type": "code",
   "execution_count": 404,
   "metadata": {},
   "outputs": [
    {
     "name": "stdout",
     "output_type": "stream",
     "text": [
      "(0, 0)\n",
      "(3483, -1)\n",
      "(4534, -2)\n",
      "(4853, -3)\n",
      "(4951, -4)\n",
      "(4986, -5)\n",
      "(4995, -6)\n",
      "(4998, -7)\n",
      "(4999, -8)\n",
      "Fitness of the current_home_base\n",
      "(5000, -9)\n",
      "126\n"
     ]
    }
   ],
   "source": [
    "current_state = [choice([False, False, False, False, False, False]) for _ in range(num_sets)]\n",
    "\n",
    "current_home_base = current_state\n",
    "current_state_fitness = fitness(current_state)\n",
    "timer = 0\n",
    "\n",
    "while (fitness(current_home_base)[1] <=  fitness(current_state_fitness)[1]) and (timer <= 200):\n",
    "    timer += 1\n",
    "    for _ in range(100):\n",
    "        new_state = tweak(current_state)\n",
    "        if (fitness(new_state) > current_state_fitness):\n",
    "            print(fitness(current_state))\n",
    "            current_state = new_state \n",
    "            current_state_fitness = fitness(current_state) # in order to not compute it each time...\n",
    "\n",
    "    current_home_base = new_home_state(current_home_base, current_state)\n",
    "    current_state = perturb(current_home_base)\n",
    "\n",
    "print(\"Fitness of the current_home_base\")\n",
    "print(fitness(current_home_base))\n",
    "print(count_fitness)\n"
   ]
  }
 ],
 "metadata": {
  "kernelspec": {
   "display_name": "venv",
   "language": "python",
   "name": "python3"
  },
  "language_info": {
   "codemirror_mode": {
    "name": "ipython",
    "version": 3
   },
   "file_extension": ".py",
   "mimetype": "text/x-python",
   "name": "python",
   "nbconvert_exporter": "python",
   "pygments_lexer": "ipython3",
   "version": "3.12.0"
  }
 },
 "nbformat": 4,
 "nbformat_minor": 2
}
