{
 "cells": [
  {
   "cell_type": "code",
   "execution_count": 227,
   "metadata": {},
   "outputs": [],
   "source": [
    "from itertools import product\n",
    "from random import randint, seed\n",
    "import random\n",
    "import numpy as np\n",
    "from scipy import sparse\n",
    "from functools import reduce\n",
    "from random import random, choice, randint\n",
    "from copy import copy\n",
    "import matplotlib.pyplot as plt"
   ]
  },
  {
   "cell_type": "code",
   "execution_count": 228,
   "metadata": {},
   "outputs": [],
   "source": [
    "def make_set_covering_problem(num_points, num_sets, density):\n",
    "    \"\"\"Returns a sparse array where rows are sets and columns are the covered items\"\"\"\n",
    "    seed(num_points*2654435761+num_sets+density)\n",
    "    sets = sparse.lil_array((num_sets, num_points), dtype=bool)\n",
    "    for s, p in product(range(num_sets), range(num_points)):\n",
    "        if random() < density:\n",
    "            sets[s, p] = True\n",
    "    for p in range(num_points):\n",
    "        sets[randint(0, num_sets-1), p] = True\n",
    "    return sets"
   ]
  },
  {
   "cell_type": "markdown",
   "metadata": {},
   "source": [
    "Iterated Local Search"
   ]
  },
  {
   "cell_type": "code",
   "execution_count": 229,
   "metadata": {},
   "outputs": [],
   "source": [
    "num_points = 5000\n",
    "num_sets = num_points\n",
    "density = .7\n",
    "count_fitness = 0\n",
    "\n",
    "mysets = make_set_covering_problem(num_points, num_sets, density).toarray()\n",
    "\n",
    "def fitness(state):\n",
    "    global count_fitness\n",
    "    count_fitness = count_fitness + 1\n",
    "    cost = sum(state)\n",
    "    valid = np.sum(\n",
    "        reduce(\n",
    "            np.logical_or,\n",
    "            [mysets[i] for i, t in enumerate(state) if t],\n",
    "            np.array([False for _ in range(num_points)]),\n",
    "        )\n",
    "    )\n",
    "    return valid, -cost\n",
    "\n"
   ]
  },
  {
   "cell_type": "code",
   "execution_count": 230,
   "metadata": {},
   "outputs": [],
   "source": [
    "def tweak(state):\n",
    "    new_state = copy(state)\n",
    "    index = randint(0, num_points - 1)\n",
    "    new_state[index] = not new_state[index]\n",
    "    return new_state\n",
    "\n",
    "def perturb(state):\n",
    "    num_changes = np.sum(state) * .6\n",
    "    new_state = copy(state)\n",
    "\n",
    "    for _ in range(int(num_changes)):\n",
    "        index = randint(0, num_points - 1)\n",
    "        new_state[index] = not state[index]\n",
    "\n",
    "    return new_state\n",
    "\n",
    "    "
   ]
  },
  {
   "cell_type": "code",
   "execution_count": 231,
   "metadata": {},
   "outputs": [
    {
     "name": "stdout",
     "output_type": "stream",
     "text": [
      "(1446, -1)\n",
      "(2546, -2)\n",
      "(3254, -3)\n",
      "(3758, -4)\n",
      "(4129, -5)\n",
      "(4390, -6)\n",
      "(4567, -7)\n",
      "(4701, -8)\n",
      "(4787, -9)\n",
      "(4854, -10)\n",
      "(4899, -11)\n",
      "(4926, -12)\n",
      "(4950, -13)\n",
      "(4964, -14)\n",
      "(4976, -15)\n",
      "(4983, -16)\n",
      "(4991, -17)\n",
      "(4994, -18)\n",
      "(4999, -19)\n",
      "(5000, -20)\n",
      "(5000, -31)\n",
      "(5000, -31)\n",
      "\n",
      "Fitness calls: 428\n",
      "Best fitness: (5000, -20)\n",
      "Best state: [519, 670, 688, 705, 1159, 1645, 2219, 2261, 2621, 2712, 2722, 3127, 3452, 3664, 3898, 4372, 4425, 4601, 4651, 4921]\n"
     ]
    }
   ],
   "source": [
    "current_state = [choice([False, False, False, False, False, False]) for _ in range(num_sets)]\n",
    "\n",
    "current_home_base = copy(current_state)\n",
    "current_home_base_fitness = fitness(current_home_base)\n",
    "current_state_fitness = fitness(current_state)\n",
    "timer=0\n",
    "\n",
    "while current_home_base_fitness >= current_state_fitness and timer<3:\n",
    "    timer+=1\n",
    "    for _ in range(100):\n",
    "        new_state = tweak(current_state)\n",
    "        \n",
    "        if (fitness(new_state) > current_state_fitness):\n",
    "            current_state = copy(new_state) \n",
    "            current_state_fitness = fitness(current_state) # in order to not compute it each time...\n",
    "            print(current_state_fitness)\n",
    "\n",
    "\n",
    "    if current_home_base_fitness < current_state_fitness:\n",
    "        timer=0\n",
    "        current_home_base = copy(current_state)\n",
    "        current_home_base_fitness = copy(current_state_fitness)\n",
    "\n",
    "    current_state = perturb(current_home_base)\n",
    "    current_state_fitness = fitness(current_state) # in order to not compute it each time...\n",
    "    \n",
    "print(\"\")\n",
    "print(\"Fitness calls: %s\" % (count_fitness,))\n",
    "print(\"Best fitness: %s\" % (current_home_base_fitness,))\n",
    "print(\"Best state: %s\" % ([index for index, value in enumerate(current_home_base) if value]))\n",
    "\n"
   ]
  }
 ],
 "metadata": {
  "kernelspec": {
   "display_name": "venv",
   "language": "python",
   "name": "python3"
  },
  "language_info": {
   "codemirror_mode": {
    "name": "ipython",
    "version": 3
   },
   "file_extension": ".py",
   "mimetype": "text/x-python",
   "name": "python",
   "nbconvert_exporter": "python",
   "pygments_lexer": "ipython3",
   "version": "3.12.0"
  }
 },
 "nbformat": 4,
 "nbformat_minor": 2
}
