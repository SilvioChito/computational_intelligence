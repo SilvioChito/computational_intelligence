{
 "cells": [
  {
   "cell_type": "code",
   "execution_count": 1,
   "metadata": {},
   "outputs": [],
   "source": [
    "import torch\n",
    "from torch import nn\n",
    "import random,numpy\n",
    "import numpy as np\n",
    "from copy import deepcopy\n",
    "from game import Game, Move, RandomPlayer, MyPlayer,translate_number_to_position_direction,translate_number_to_position,TrainedPlayer\n",
    "import torch.nn.init as init"
   ]
  },
  {
   "cell_type": "markdown",
   "metadata": {},
   "source": [
    "## Training the agent"
   ]
  },
  {
   "cell_type": "code",
   "execution_count": 2,
   "metadata": {},
   "outputs": [
    {
     "name": "stdout",
     "output_type": "stream",
     "text": [
      "Using cpu device\n"
     ]
    }
   ],
   "source": [
    "## Constants definition\n",
    "\n",
    "# These parameter have been obtained by running a genetic algorithm over individuals representing the network hyper parameters\n",
    "# Based on the fact that the agent could start as first/second, we might have different hyperparameters for the network\n",
    "\n",
    "num_iterations = 1000\n",
    "num_matches = 6\n",
    "max_dim_replay_buff = 126\n",
    "time_to_update = 37\n",
    "gamma = 0.709\n",
    "batch_size=126\n",
    "\n",
    "device = (\n",
    "    \"cuda:0\"\n",
    "    if torch.cuda.is_available()\n",
    "    else \"cpu\"\n",
    ")\n",
    "print(f\"Using {device} device\")\n"
   ]
  },
  {
   "cell_type": "code",
   "execution_count": 3,
   "metadata": {},
   "outputs": [],
   "source": [
    "class ReplayBuffer:    \n",
    "    def __init__(self, buffer_size):\n",
    "        self.buffer_size = buffer_size        \n",
    "        self.buffer = []\n",
    "        self.position = 0\n",
    "        \n",
    "    def add_experience(self, experience):        \n",
    "        if len(self.buffer) < self.buffer_size:\n",
    "            self.buffer.append(experience)        \n",
    "        else:\n",
    "            self.buffer[self.position] = experience        \n",
    "            self.position = (self.position + 1) % self.buffer_size\n",
    "            \n",
    "    def sample_batch(self, batch_size):\n",
    "        batch_indices = np.random.choice(len(self.buffer), batch_size, replace=True)\n",
    "        batch = [self.buffer[i] for i in batch_indices]\n",
    "        return batch"
   ]
  },
  {
   "cell_type": "code",
   "execution_count": 4,
   "metadata": {},
   "outputs": [],
   "source": [
    "from game import Player\n",
    "from tqdm import tqdm\n",
    "\n",
    "\n",
    "def training(agent_to_train: 'Player', opponent: 'Player', starts_first: bool):\n",
    "    loss_tot = []\n",
    "    taboo_set = set()\n",
    "\n",
    "    replay_buff = ReplayBuffer(max_dim_replay_buff) # replay buffer, from which we sample for BATCH learning\n",
    "    # inizializza i modelli -> passali per parametro\n",
    "    torch.set_grad_enabled(True)\n",
    "    \n",
    "    for step in tqdm(range(num_iterations), desc=\"Training Iterations\"):  \n",
    "        # we fill the replay buffer with experiences made with matches\n",
    "        #player1.step=step\n",
    "        for match in range(num_matches):\n",
    "            # lo uso solo in inferenza\n",
    "            # gioca una intera partita qui dentro e per ogni mossa, metti l'experience dentro il ReplayBuffer\n",
    "            # ...\n",
    "            # ... qui descrivere come viene effettivamente usata la rete neurale (magari impacchettarla in qualche funzione)\n",
    "            winner = -1\n",
    "            g = Game()\n",
    "            #g.current_player_idx = match%2\n",
    "            g.current_player_idx = int(starts_first) # Se è True viene settato ad 1, ed all'interno del ciclo (con l'aggiornamento del g.current_player_idx) l'agent_to _train parte per primo\n",
    "\n",
    "            #player1 = MyPlayer()\n",
    "            #player2 = RandomPlayer()\n",
    "            players = [agent_to_train, opponent]   # CAMBIA IL NOME DEL PLAYER1 A AGENT_TO_TRAIN\n",
    "\n",
    "            go = False # serve a calcolare lo stato successivo per il calcolo del target\n",
    "\n",
    "            while winner < 0:\n",
    "                    g.current_player_idx += 1\n",
    "                    g.current_player_idx %= len(players)\n",
    "                    prev_state=deepcopy(g)\n",
    "                    from_pos, slide = players[g.current_player_idx].make_move(g)\n",
    "                    g._Game__move(from_pos, slide, g.current_player_idx)\n",
    "                    \n",
    "                    if g.current_player_idx==0: \n",
    "                        ##l'azione è il valore del q-value quindi un numero? o la posizione in questo caso\n",
    "                        ##in quel caso replay_row=(prev_state.get_board,GeneratorNet((prev_state.get_board),g.get_board,reward)\n",
    "                        reward=g.compute_reward(from_pos, slide)\n",
    "                        go = True\n",
    "                        #io qua dentro x ogni row voglio i 44 output della mia rete\n",
    "                        \n",
    "                        #replay_row=(prev_state.get_flat_board(),player1.last_action_number, deepcopy(g), reward)\n",
    "\n",
    "                        # faccio fare una mossa all'avversario e poi faccio il max action sul nuovo stato che mi ritorna\n",
    "                        \n",
    "                    elif go and g.current_player_idx==1: \n",
    "                        if (tuple(prev_state.get_flat_board()), agent_to_train.last_action_number, tuple(deepcopy(g).get_flat_board())) not in taboo_set :\n",
    "                            replay_row=(prev_state.get_flat_board(), agent_to_train.last_action_number, deepcopy(g), reward, reward==1)\n",
    "                            taboo_set.add((tuple(prev_state.get_flat_board()),agent_to_train.last_action_number, tuple(deepcopy(g).get_flat_board())))\n",
    "                            #eliminato last_action da replay row?? Non dovrebbe servire\n",
    "                            replay_buff.add_experience(replay_row)\n",
    "\n",
    "\n",
    "                    if g.check_winner() != -1:\n",
    "                        break\n",
    "            \n",
    "            # replay_buffer.push(...) per ogni transizione di stato osservata ()\n",
    "            # restituisci il risultato sotto forma di tupla (st, a, st+1, r) - (State, action, next_state, reward)\n",
    "            \n",
    "        # Now we sample a batch of data from the ReplayBuffer in order to train the Agent\n",
    "        batch_to_train = replay_buff.sample_batch(batch_size)\n",
    "      \n",
    "        #divide the batch\n",
    "        state_batch, action_num, next_state_batch, reward, done = zip(*batch_to_train) \n",
    "\n",
    "        #forward the Generator\n",
    "        q_values = agent_to_train.GeneratorNet(torch.tensor(state_batch, dtype=torch.float32)).to(agent_to_train.device)\n",
    "        q_values_target = torch.zeros(batch_size, 44).to(agent_to_train.device)\n",
    "\n",
    "\n",
    "        #update q_values target by using Bellman Equation  \n",
    "        for i in range(batch_size): \n",
    "            if done[i] == False:\n",
    "                q_values_target[i, action_num[i]] = reward[i] + gamma * torch.tensor(agent_to_train.compute_target(next_state_batch[i])).to(agent_to_train.device).item()\n",
    "            else:\n",
    "               q_values_target[i, action_num[i]] = reward[i] \n",
    "          \n",
    "        agent_to_train.optimizer.zero_grad()\n",
    "        loss_curr=agent_to_train.criterion(q_values,q_values_target).to(agent_to_train.device)\n",
    "        loss_curr.backward()\n",
    "    \n",
    "        agent_to_train.optimizer.step()\n",
    "\n",
    "        loss_tot.append(loss_curr)\n",
    "      \n",
    "        if (step % time_to_update) == 0:\n",
    "            # update the parameter of the TargetNet\n",
    "            agent_to_train.copy_params_TargetNet()\n",
    "            \n",
    "       \n",
    "        #printa come varia \n",
    "   \n",
    "    return agent_to_train.GeneratorNet.state_dict(), loss_tot\n",
    "            \n",
    "      "
   ]
  },
  {
   "cell_type": "code",
   "execution_count": 5,
   "metadata": {},
   "outputs": [
    {
     "name": "stderr",
     "output_type": "stream",
     "text": [
      "Training Iterations:   0%|          | 0/1000 [00:00<?, ?it/s]C:\\Users\\chito\\AppData\\Local\\Temp\\ipykernel_14004\\1850521848.py:71: UserWarning: Creating a tensor from a list of numpy.ndarrays is extremely slow. Please consider converting the list to a single numpy.ndarray with numpy.array() before converting to a tensor. (Triggered internally at C:\\cb\\pytorch_1000000000000\\work\\torch\\csrc\\utils\\tensor_new.cpp:264.)\n",
      "  q_values = agent_to_train.GeneratorNet(torch.tensor(state_batch, dtype=torch.float32)).to(agent_to_train.device)\n",
      "Training Iterations: 100%|██████████| 1000/1000 [02:03<00:00,  8.12it/s]\n"
     ]
    },
    {
     "data": {
      "text/plain": [
       "<All keys matched successfully>"
      ]
     },
     "execution_count": 5,
     "metadata": {},
     "output_type": "execute_result"
    }
   ],
   "source": [
    "#agent_train_first = MyPlayer()\n",
    "agent_train_second = MyPlayer()\n",
    "opponent = RandomPlayer()\n",
    "#TrainedGeneratorNet_first = TrainedPlayer()\n",
    "TrainedGeneratorNet_second = TrainedPlayer()\n",
    "\n",
    "#trained_model_params_first, loss_tot_first = training(agent_train_first, opponent, True) # this model is trained to start first\n",
    "trained_model_params_second, loss_tot_second = training(agent_train_second, opponent, False) # this model is trained to start second\n",
    "\n",
    "# TRAINED NETWORK to use in INFERENCE PHASE\n",
    "#TrainedGeneratorNet_first.GeneratorNet.load_state_dict(trained_model_params_first) \n",
    "TrainedGeneratorNet_second.GeneratorNet.load_state_dict(trained_model_params_second)"
   ]
  },
  {
   "cell_type": "markdown",
   "metadata": {},
   "source": [
    "## Loss function visualization"
   ]
  },
  {
   "cell_type": "code",
   "execution_count": 6,
   "metadata": {},
   "outputs": [
    {
     "data": {
      "image/png": "[encoded data removed]",
      "text/plain": [
       "<Figure size 640x480 with 1 Axes>"
      ]
     },
     "metadata": {},
     "output_type": "display_data"
    }
   ],
   "source": [
    "from matplotlib import pyplot as plt\n",
    "\n",
    "#vals_first = [el.detach().numpy() for el in loss_tot_first]\n",
    "vals_second = [el.detach().numpy() for el in loss_tot_second]\n",
    "\n",
    "# Generate a sequence of integers to represent the epoch numbers\n",
    "epochs = range(1, len(loss_tot_second) + 1)\n",
    "\n",
    "# Plot and label the training and validation loss values\n",
    "#plt.plot(epochs, vals_first, label='Training Loss (first turn)')\n",
    "plt.plot(epochs, vals_second, label='Training Loss (second turn)')\n",
    "\n",
    "\n",
    "# Add title and axes labels\n",
    "plt.title('Training Loss')\n",
    "plt.xlabel('Epochs')\n",
    "plt.ylabel('Loss')\n",
    "\n",
    "# Display the plot\n",
    "plt.legend()\n",
    "plt.show()"
   ]
  },
  {
   "cell_type": "code",
   "execution_count": 7,
   "metadata": {},
   "outputs": [],
   "source": [
    "## Saving of the model parameters"
   ]
  },
  {
   "cell_type": "code",
   "execution_count": 9,
   "metadata": {},
   "outputs": [],
   "source": [
    "#torch.save(TrainedGeneratorNet_first.GeneratorNet.state_dict(), './trained_models/model_weights_first.pth')\n",
    "torch.save(TrainedGeneratorNet_second.GeneratorNet.state_dict(), './trained_models/model_weights_second.pth')"
   ]
  }
 ],
 "metadata": {
  "kernelspec": {
   "display_name": "myenv",
   "language": "python",
   "name": "python3"
  },
  "language_info": {
   "codemirror_mode": {
    "name": "ipython",
    "version": 3
   },
   "file_extension": ".py",
   "mimetype": "text/x-python",
   "name": "python",
   "nbconvert_exporter": "python",
   "pygments_lexer": "ipython3",
   "version": "3.11.7"
  }
 },
 "nbformat": 4,
 "nbformat_minor": 2
}
