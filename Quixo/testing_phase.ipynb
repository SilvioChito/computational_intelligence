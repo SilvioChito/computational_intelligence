{
 "cells": [
  {
   "cell_type": "markdown",
   "metadata": {},
   "source": [
    "## Inference"
   ]
  },
  {
   "cell_type": "code",
   "execution_count": 2,
   "metadata": {},
   "outputs": [
    {
     "name": "stderr",
     "output_type": "stream",
     "text": [
      "Game:   0%|          | 0/1000 [00:00<?, ?it/s]"
     ]
    },
    {
     "name": "stderr",
     "output_type": "stream",
     "text": [
      "Game: 100%|██████████| 1000/1000 [00:10<00:00, 92.81it/s]"
     ]
    },
    {
     "name": "stdout",
     "output_type": "stream",
     "text": [
      "Accuracy: 87.2\n"
     ]
    },
    {
     "name": "stderr",
     "output_type": "stream",
     "text": [
      "\n"
     ]
    }
   ],
   "source": [
    "from game import Game, RandomPlayer, TrainedPlayer_Complete\n",
    "from tqdm import tqdm\n",
    "\n",
    "start_first = False # False means playing as second player, while True as first\n",
    "TrainedGeneratorNet = TrainedPlayer_Complete(start_first, './trained_models/trained_params_95first.pth', './trained_models/trained_params_86second.pth')\n",
    "\n",
    "wins = 0\n",
    "num_match_test = 1000\n",
    "\n",
    "for step in tqdm(range(num_match_test), desc=\"Game\"):\n",
    "    player=RandomPlayer()\n",
    "    g=Game()\n",
    "    g.current_player_idx = int(start_first)\n",
    "    winner=g.play(TrainedGeneratorNet, player)\n",
    "\n",
    "    if winner==0:\n",
    "        wins+=1\n",
    "\n",
    "print(f\"Accuracy: {(wins/num_match_test)*100}\")"
   ]
  }
 ],
 "metadata": {
  "kernelspec": {
   "display_name": "general_env",
   "language": "python",
   "name": "python3"
  },
  "language_info": {
   "codemirror_mode": {
    "name": "ipython",
    "version": 3
   },
   "file_extension": ".py",
   "mimetype": "text/x-python",
   "name": "python",
   "nbconvert_exporter": "python",
   "pygments_lexer": "ipython3",
   "version": "3.11.7"
  }
 },
 "nbformat": 4,
 "nbformat_minor": 2
}
