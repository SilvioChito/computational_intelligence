{
 "cells": [
  {
   "cell_type": "markdown",
   "metadata": {},
   "source": [
    "## Inference"
   ]
  },
  {
   "cell_type": "code",
   "execution_count": null,
   "metadata": {},
   "outputs": [],
   "source": [
    "from game import Game, RandomPlayer, TrainedPlayer_Complete\n",
    "from tqdm import tqdm\n",
    "\n",
    "start_first = False # False means playing as second player, while True as first\n",
    "TrainedGeneratorNet = TrainedPlayer_Complete(start_first, './trained_models/trained_params_95first.pth', './trained_models/trained_params_86second.pth')\n",
    "# in case you'd like to switch TrainedPlayer_Complete's turn just call TrainedGeneratorNet.change_turn(True) or TrainedGeneratorNet.change_turn(False)\n",
    "\n",
    "wins = 0\n",
    "num_match_test = 1000\n",
    "# In case you would like to test the agent against more opponents, just plug them into the vector 'players' and for each game, there will be \n",
    "# a match against a different opponent inside the vector. \n",
    "players = [RandomPlayer(), RandomPlayer(), RandomPlayer()]\n",
    "\n",
    "for step in tqdm(range(num_match_test), desc=\"Game\"):\n",
    "    player = players[step % len(players)]\n",
    "    g=Game()\n",
    "    g.current_player_idx = int(start_first)\n",
    "    winner=g.play(TrainedGeneratorNet, player)\n",
    "\n",
    "    if winner==0:\n",
    "        wins+=1\n",
    "\n",
    "print(f\"Accuracy: {(wins/num_match_test)*100}\")\n",
    "\n",
    "\n",
    "num_params = sum(p.numel() for p in TrainedGeneratorNet.GeneratorNet_first.parameters() if p.requires_grad)\n",
    "print(num_params)"
   ]
  }
 ],
 "metadata": {
  "kernelspec": {
   "display_name": "general_env",
   "language": "python",
   "name": "python3"
  },
  "language_info": {
   "codemirror_mode": {
    "name": "ipython",
    "version": 3
   },
   "file_extension": ".py",
   "mimetype": "text/x-python",
   "name": "python",
   "nbconvert_exporter": "python",
   "pygments_lexer": "ipython3",
   "version": "3.11.7"
  }
 },
 "nbformat": 4,
 "nbformat_minor": 2
}
